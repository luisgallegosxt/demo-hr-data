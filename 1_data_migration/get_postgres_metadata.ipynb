{
 "cells": [
  {
   "cell_type": "markdown",
   "metadata": {
    "application/vnd.databricks.v1+cell": {
     "cellMetadata": {},
     "inputWidgets": {},
     "nuid": "0f794d53-734c-4968-a526-20d56dcc4850",
     "showTitle": false,
     "title": ""
    }
   },
   "source": [
    "### Variables"
   ]
  },
  {
   "cell_type": "code",
   "execution_count": null,
   "metadata": {
    "application/vnd.databricks.v1+cell": {
     "cellMetadata": {
      "byteLimit": 2048000,
      "rowLimit": 10000
     },
     "inputWidgets": {},
     "nuid": "c440b2cd-eb02-4f9b-949b-242f224c33cc",
     "showTitle": false,
     "title": ""
    }
   },
   "outputs": [],
   "source": [
    "host = ''\n",
    "port = \"5432\"\n",
    "dbname = \"db_demo_rh\"\n",
    "user = \"\"\n",
    "password = \"\"\n",
    "schema = \"\""
   ]
  },
  {
   "cell_type": "markdown",
   "metadata": {
    "application/vnd.databricks.v1+cell": {
     "cellMetadata": {},
     "inputWidgets": {},
     "nuid": "74c8e93b-462e-48ee-a451-ba7ebd012004",
     "showTitle": false,
     "title": ""
    }
   },
   "source": [
    "### Functions"
   ]
  },
  {
   "cell_type": "code",
   "execution_count": null,
   "metadata": {
    "application/vnd.databricks.v1+cell": {
     "cellMetadata": {
      "byteLimit": 2048000,
      "rowLimit": 10000
     },
     "inputWidgets": {},
     "nuid": "db4c3909-5ca4-43da-b427-ea4612b054a7",
     "showTitle": false,
     "title": ""
    }
   },
   "outputs": [],
   "source": [
    "import psycopg2\n",
    "import os\n",
    "\n",
    "def connect_db(host, port, dbname, user, password):\n",
    "    try:\n",
    "        connection = psycopg2.connect(\n",
    "            host=host,\n",
    "            port=port,\n",
    "            dbname=dbname,\n",
    "            user=user,\n",
    "            password=password\n",
    "        )\n",
    "        return connection\n",
    "    except Exception as e:\n",
    "        print(f\"Error in conn to db: {e}\")\n",
    "        return None\n",
    "\n",
    "def get_db_structure(connection, schema):\n",
    "    try:\n",
    "        cursor = connection.cursor()\n",
    "        cursor.execute(f\"\"\"\n",
    "            SELECT\n",
    "                table_name,\n",
    "                column_name,\n",
    "                udt_name,\n",
    "                character_maximum_length,\n",
    "                is_nullable,\n",
    "                column_default\n",
    "            FROM\n",
    "                information_schema.columns\n",
    "            WHERE\n",
    "                table_schema = '{schema}' AND table_name NOT IN (\n",
    "                    SELECT table_name\n",
    "                    FROM information_schema.views\n",
    "                    WHERE table_schema = '{schema}'\n",
    "                )\n",
    "            ORDER BY\n",
    "                table_name, ordinal_position\n",
    "        \"\"\")\n",
    "        columns = cursor.fetchall()\n",
    "\n",
    "        cursor.execute(f\"\"\"\n",
    "            SELECT\n",
    "                kcu.table_name,\n",
    "                tco.constraint_type,\n",
    "                kcu.column_name,\n",
    "                ccu.table_name AS foreign_table_name,\n",
    "                ccu.column_name AS foreign_column_name\n",
    "            FROM\n",
    "                information_schema.table_constraints tco\n",
    "            JOIN\n",
    "                information_schema.key_column_usage kcu \n",
    "            ON\n",
    "                tco.constraint_name = kcu.constraint_name\n",
    "            JOIN\n",
    "                information_schema.constraint_column_usage ccu \n",
    "            ON\n",
    "                ccu.constraint_name = tco.constraint_name\n",
    "            WHERE\n",
    "                tco.constraint_type IN ('PRIMARY KEY', 'FOREIGN KEY')\n",
    "                AND tco.table_schema = '{schema}'\n",
    "            ORDER BY\n",
    "                kcu.table_name, kcu.ordinal_position\n",
    "        \"\"\")\n",
    "        constraints = cursor.fetchall()\n",
    "\n",
    "        cursor.execute(f\"\"\"\n",
    "            SELECT\n",
    "                proname,\n",
    "                pg_get_functiondef(p.oid) AS function_definition\n",
    "            FROM\n",
    "                pg_proc p\n",
    "            JOIN\n",
    "                pg_namespace n ON n.oid = p.pronamespace\n",
    "            WHERE\n",
    "                n.nspname = '{schema}'\n",
    "        \"\"\")\n",
    "        functions = cursor.fetchall()\n",
    "\n",
    "        cursor.execute(f\"\"\"\n",
    "            SELECT\n",
    "                table_name,\n",
    "                view_definition\n",
    "            FROM\n",
    "                information_schema.views\n",
    "            WHERE\n",
    "                table_schema = '{schema}'\n",
    "        \"\"\")\n",
    "        views = cursor.fetchall()\n",
    "\n",
    "        return columns, constraints, functions, views\n",
    "    except Exception as e:\n",
    "        print(f\"Error gathering db structuree: {e}\")\n",
    "        return None, None, None, None\n",
    "\n",
    "\n",
    "def generate_sql_script(columns, constraints, functions, views, schema):\n",
    "    tables = {}\n",
    "    primary_keys = {}\n",
    "    foreign_keys = {}\n",
    "\n",
    "    if columns is not None and constraints is not None:\n",
    "\n",
    "        for table, column, udt_name, char_length, is_nullable, column_default in columns:\n",
    "            if table not in tables:\n",
    "                tables[table] = []\n",
    "            col_type = udt_name\n",
    "            if udt_name == 'varchar' and char_length is not None:\n",
    "                col_type = f\"varchar({char_length})\"\n",
    "            col_def = f\"{column} {col_type}\"\n",
    "            if is_nullable == 'NO':\n",
    "                col_def += \" NOT NULL\"\n",
    "            if column_default:\n",
    "                col_def += f\" DEFAULT {column_default}\"\n",
    "            tables[table].append(col_def)\n",
    "\n",
    "        for table, constraint_type, column_name, foreign_table, foreign_column in constraints:\n",
    "            if constraint_type == 'PRIMARY KEY':\n",
    "                if table not in primary_keys:\n",
    "                    primary_keys[table] = []\n",
    "                primary_keys[table].append(column_name)\n",
    "            elif constraint_type == 'FOREIGN KEY':\n",
    "                if table not in foreign_keys:\n",
    "                    foreign_keys[table] = []\n",
    "                foreign_keys[table].append((column_name, foreign_table, foreign_column))\n",
    "\n",
    "        sql_script = \"-- SQL Script to create tables\\n\\n\"\n",
    "\n",
    "        for table, cols in tables.items():\n",
    "            sql_script += f\"CREATE TABLE IF NOT EXISTS {schema}.{table} (\\n\"\n",
    "            sql_script += \",\\n\".join(f\"    {col}\" for col in cols)\n",
    "            if table in primary_keys:\n",
    "                pk = \", \".join(primary_keys[table])\n",
    "                sql_script += f\",\\n    PRIMARY KEY ({pk})\"\n",
    "            if table in foreign_keys:\n",
    "                for col, foreign_table, foreign_column in foreign_keys[table]:\n",
    "                    sql_script += f\",\\n    FOREIGN KEY ({col}) REFERENCES {foreign_table}({foreign_column})\"\n",
    "            sql_script += \"\\n);\\n\\n\"\n",
    "\n",
    "    if functions is not None:\n",
    "        sql_script += \"-- SQL Script to create functions\\n\\n\"\n",
    "\n",
    "        for function_name, function_definition in functions:\n",
    "            sql_script += f\"{function_definition}\\n\\n\"\n",
    "\n",
    "    if views is not None:\n",
    "        sql_script += \"-- SQL Script to create views\\n\\n\"\n",
    "\n",
    "        for view_name, view_definition in views:\n",
    "            sql_script += f\"CREATE OR REPLACE VIEW {schema}.{view_name} AS\\n{view_definition}\\n\\n\"\n",
    "\n",
    "    return sql_script\n",
    "\n",
    "\n",
    "def export_to_sql(file_path, sql_script):\n",
    "    try:\n",
    "        with open(file_path, 'w+') as f:\n",
    "            f.write(sql_script)\n",
    "        \n",
    "        print(sql_script)\n",
    "        print(f\"\\nMigration script exported to {file_path}\")\n",
    "    except Exception as e:\n",
    "        print(f\"Error exporting SQL file: {e}\")\n"
   ]
  },
  {
   "cell_type": "markdown",
   "metadata": {
    "application/vnd.databricks.v1+cell": {
     "cellMetadata": {},
     "inputWidgets": {},
     "nuid": "3777e53e-0f26-421c-b1c1-76a07bc0fa67",
     "showTitle": false,
     "title": ""
    }
   },
   "source": [
    "### Execute"
   ]
  },
  {
   "cell_type": "code",
   "execution_count": null,
   "metadata": {
    "application/vnd.databricks.v1+cell": {
     "cellMetadata": {
      "byteLimit": 2048000,
      "rowLimit": 10000
     },
     "inputWidgets": {},
     "nuid": "752ef8fd-4aea-4f1a-93d8-e2fa78813f80",
     "showTitle": false,
     "title": ""
    }
   },
   "outputs": [],
   "source": [
    "connection = connect_db(host, port, dbname, user, password)\n",
    "\n",
    "if connection:\n",
    "    \n",
    "    columns, constraints, functions, views = get_db_structure(connection, schema)\n",
    "\n",
    "    sql_script = generate_sql_script(columns, constraints, functions, views, schema)\n",
    "\n",
    "    \n",
    "    file_path = os.path.join(os.getcwd(), \"migration.sql\")\n",
    "\n",
    "    export_to_sql(file_path, sql_script)\n",
    "\n",
    "    \n",
    "    connection.close()"
   ]
  }
 ],
 "metadata": {
  "application/vnd.databricks.v1+notebook": {
   "dashboards": [],
   "environmentMetadata": null,
   "language": "python",
   "notebookMetadata": {
    "pythonIndentUnit": 4
   },
   "notebookName": "get_postgres_metadata",
   "widgets": {}
  },
  "language_info": {
   "name": "python"
  }
 },
 "nbformat": 4,
 "nbformat_minor": 0
}
