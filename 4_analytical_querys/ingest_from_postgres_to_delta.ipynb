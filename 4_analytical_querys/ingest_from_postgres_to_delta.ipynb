{
 "cells": [
  {
   "cell_type": "markdown",
   "metadata": {
    "application/vnd.databricks.v1+cell": {
     "cellMetadata": {},
     "inputWidgets": {},
     "nuid": "a2bffbf5-017d-4533-920c-5c2a1e8b6bdb",
     "showTitle": false,
     "title": ""
    }
   },
   "source": [
    "### Variables"
   ]
  },
  {
   "cell_type": "code",
   "execution_count": null,
   "metadata": {
    "application/vnd.databricks.v1+cell": {
     "cellMetadata": {
      "byteLimit": 2048000,
      "rowLimit": 10000
     },
     "inputWidgets": {},
     "nuid": "2ff34569-fabd-4c2a-b806-8048f559274b",
     "showTitle": false,
     "title": ""
    }
   },
   "outputs": [],
   "source": [
    "host = ''\n",
    "port = \"5432\"\n",
    "dbname = \"db_demo_rh\"\n",
    "user = \"\"\n",
    "password = \"\"\n",
    "schema_name = \"\"\n",
    "jdbc_url = f\"jdbc:postgresql://{host}:{port}/{dbname}\"\n",
    "driver = \"org.postgresql.Driver\"\n",
    "storage_path = \"s3://storage/\"\n",
    "\n",
    "jdbc_properties = {\n",
    "    \"user\": user,\n",
    "    \"password\": password,\n",
    "    \"driver\": driver\n",
    "}"
   ]
  },
  {
   "cell_type": "code",
   "execution_count": null,
   "metadata": {
    "application/vnd.databricks.v1+cell": {
     "cellMetadata": {
      "byteLimit": 2048000,
      "rowLimit": 10000
     },
     "inputWidgets": {},
     "nuid": "632f4e08-a49f-46a5-af13-c15fce519c6e",
     "showTitle": false,
     "title": ""
    }
   },
   "outputs": [],
   "source": [
    "tables_df = spark.read.jdbc(url=jdbc_url, table=\"(SELECT table_name FROM information_schema.tables WHERE table_schema = 'public') AS tables\", properties=jdbc_properties)\n",
    "tables = [row.table_name for row in tables_df.collect()]\n",
    "\n",
    "\n",
    "for table in tables:\n",
    "    delta_path = storage_path + f\"path/to/db_demo_rh/{table}\"\n",
    "\n",
    "    spark.sql(f\"\"\"\n",
    "    CREATE TABLE IF NOT EXISTS db_demo_rh.{table}\n",
    "    USING delta\n",
    "    LOCATION '{delta_path}'\n",
    "    \"\"\")\n",
    "    \n",
    "    df = spark.read.jdbc(url=jdbc_url, table=table, properties=jdbc_properties)\n",
    "    df.write.format(\"delta\").mode(\"overwrite\").option(\"mergeSchema\", \"true\").save(delta_path)"
   ]
  }
 ],
 "metadata": {
  "application/vnd.databricks.v1+notebook": {
   "dashboards": [],
   "environmentMetadata": null,
   "language": "python",
   "notebookMetadata": {
    "pythonIndentUnit": 4
   },
   "notebookName": "ingest_from_postgres_to_delta",
   "widgets": {}
  },
  "language_info": {
   "name": "python"
  }
 },
 "nbformat": 4,
 "nbformat_minor": 0
}
