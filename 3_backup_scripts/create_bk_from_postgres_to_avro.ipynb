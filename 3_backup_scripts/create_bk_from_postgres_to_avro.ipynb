{
 "cells": [
  {
   "cell_type": "markdown",
   "metadata": {
    "application/vnd.databricks.v1+cell": {
     "cellMetadata": {},
     "inputWidgets": {},
     "nuid": "916213fc-64ec-48a3-9b19-871275899d86",
     "showTitle": false,
     "title": ""
    }
   },
   "source": [
    "### Variables"
   ]
  },
  {
   "cell_type": "code",
   "execution_count": null,
   "metadata": {
    "application/vnd.databricks.v1+cell": {
     "cellMetadata": {
      "byteLimit": 2048000,
      "rowLimit": 10000
     },
     "inputWidgets": {},
     "nuid": "caeb0eef-10e2-45ff-8ce6-e3924f5f7eda",
     "showTitle": false,
     "title": ""
    }
   },
   "outputs": [],
   "source": [
    "host = ''\n",
    "port = \"5432\"\n",
    "dbname = \"db_demo_rh_restored\"\n",
    "user = \"\"\n",
    "password = \"\"\n",
    "schema_name = \"\"\n",
    "input_path = \"/Volumes/path/to/avro_backup/\"\n",
    "jdbc_url = f\"jdbc:postgresql://{host}:{port}/{dbname}\"\n",
    "driver = \"org.postgresql.Driver\"\n",
    "\n",
    "jdbc_properties = {\n",
    "    \"user\": user,\n",
    "    \"password\": password,\n",
    "    \"driver\": driver\n",
    "}"
   ]
  },
  {
   "cell_type": "code",
   "execution_count": null,
   "metadata": {
    "application/vnd.databricks.v1+cell": {
     "cellMetadata": {
      "byteLimit": 2048000,
      "rowLimit": 10000
     },
     "inputWidgets": {},
     "nuid": "a732b112-6375-4d0b-9791-a0ceec49a668",
     "showTitle": false,
     "title": ""
    }
   },
   "outputs": [],
   "source": [
    "import psycopg2\n",
    "import os\n",
    "    \n",
    "def restore_table_from_avro(table_name):\n",
    "    avro_input = os.path.join(input_path, f\"{table_name}.avro\")\n",
    "    \n",
    "    df = spark.read.format(\"avro\").load(avro_input)\n",
    "    \n",
    "    table_full_name = f\"{schema_name}.{table_name}\"\n",
    "    df.write.jdbc(url=jdbc_url, table=table_full_name, mode=\"append\", properties=jdbc_properties)\n",
    "    print(f\"Restauration of table: {table_name} completed from {avro_input}\")\n",
    "\n",
    "\n",
    "\n"
   ]
  },
  {
   "cell_type": "code",
   "execution_count": null,
   "metadata": {
    "application/vnd.databricks.v1+cell": {
     "cellMetadata": {
      "byteLimit": 2048000,
      "rowLimit": 10000
     },
     "inputWidgets": {},
     "nuid": "0fa77595-57c6-4774-880a-fdf4f17ccadc",
     "showTitle": false,
     "title": ""
    }
   },
   "outputs": [],
   "source": [
    "\n",
    "avro_files = [f.replace('.avro', '') for f in os.listdir(input_path) if f.endswith('.avro')]\n",
    "\n",
    "for table in avro_files:\n",
    "    restore_table_from_avro(table)"
   ]
  }
 ],
 "metadata": {
  "application/vnd.databricks.v1+notebook": {
   "dashboards": [],
   "environmentMetadata": null,
   "language": "python",
   "notebookMetadata": {
    "pythonIndentUnit": 4
   },
   "notebookName": "create_bk_from_postgres_to_avro",
   "widgets": {}
  },
  "language_info": {
   "name": "python"
  }
 },
 "nbformat": 4,
 "nbformat_minor": 0
}
