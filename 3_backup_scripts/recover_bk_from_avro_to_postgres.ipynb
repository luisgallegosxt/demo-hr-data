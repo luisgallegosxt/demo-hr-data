{
 "cells": [
  {
   "cell_type": "markdown",
   "metadata": {
    "application/vnd.databricks.v1+cell": {
     "cellMetadata": {},
     "inputWidgets": {},
     "nuid": "916213fc-64ec-48a3-9b19-871275899d86",
     "showTitle": false,
     "title": ""
    }
   },
   "source": [
    "### Variables"
   ]
  },
  {
   "cell_type": "code",
   "execution_count": null,
   "metadata": {
    "application/vnd.databricks.v1+cell": {
     "cellMetadata": {
      "byteLimit": 2048000,
      "rowLimit": 10000
     },
     "inputWidgets": {},
     "nuid": "caeb0eef-10e2-45ff-8ce6-e3924f5f7eda",
     "showTitle": false,
     "title": ""
    }
   },
   "outputs": [],
   "source": [
    "host = ''\n",
    "port = \"5432\"\n",
    "dbname = \"\"\n",
    "user = \"\"\n",
    "password = \"\"\n",
    "schema = \"\"\n",
    "output_path = \"/Volumes/path/to/avro_backup/\"\n",
    "jdbc_url = f\"jdbc:postgresql://{host}:{port}/{dbname}\"\n",
    "driver = \"org.postgresql.Driver\"\n",
    "\n",
    "jdbc_properties = {\n",
    "    \"user\": user,\n",
    "    \"password\": password,\n",
    "    \"driver\": driver\n",
    "}"
   ]
  },
  {
   "cell_type": "code",
   "execution_count": null,
   "metadata": {
    "application/vnd.databricks.v1+cell": {
     "cellMetadata": {
      "byteLimit": 2048000,
      "rowLimit": 10000
     },
     "inputWidgets": {},
     "nuid": "a732b112-6375-4d0b-9791-a0ceec49a668",
     "showTitle": false,
     "title": ""
    }
   },
   "outputs": [],
   "source": [
    "import psycopg2\n",
    "import os\n",
    "\n",
    "def connect_db(host, port, dbname, user, password):\n",
    "    try:\n",
    "        connection = psycopg2.connect(\n",
    "            host=host,\n",
    "            port=port,\n",
    "            dbname=dbname,\n",
    "            user=user,\n",
    "            password=password\n",
    "        )\n",
    "        return connection\n",
    "    except Exception as e:\n",
    "        print(f\"Error conectando a la base de datos: {e}\")\n",
    "        return None\n",
    "    \n",
    "\n",
    "def get_tables(conn, schema_name):\n",
    "    cursor = conn.cursor()\n",
    "    query = f\"\"\"\n",
    "    SELECT table_name \n",
    "    FROM information_schema.tables \n",
    "    WHERE table_schema = '{schema}' AND table_type = 'BASE TABLE';\n",
    "    \"\"\"\n",
    "    cursor.execute(query)\n",
    "    tables = [row[0] for row in cursor.fetchall()]\n",
    "    cursor.close()\n",
    "    conn.close()\n",
    "    return tables\n",
    "\n",
    "def backup_table_to_avro(table_name, schema_name):\n",
    "    table_full_name = f\"{schema_name}.{table_name}\"\n",
    "    \n",
    "    df = spark.read.jdbc(url=jdbc_url, table=table_full_name, properties=jdbc_properties)\n",
    "    \n",
    "    avro_output = os.path.join(output_path, f\"{table_name}.avro\")\n",
    "    df.write.format(\"avro\").mode(\"overwrite\").save(avro_output)\n",
    "    print(f\"Backup de {table_name} completado y almacenado en {avro_output}\")\n",
    "\n",
    "\n",
    "\n"
   ]
  },
  {
   "cell_type": "code",
   "execution_count": null,
   "metadata": {
    "application/vnd.databricks.v1+cell": {
     "cellMetadata": {
      "byteLimit": 2048000,
      "rowLimit": 10000
     },
     "inputWidgets": {},
     "nuid": "0fa77595-57c6-4774-880a-fdf4f17ccadc",
     "showTitle": false,
     "title": ""
    }
   },
   "outputs": [],
   "source": [
    "connection = connect_db(host, port, dbname, user, password)\n",
    "\n",
    "if connection:\n",
    "    \n",
    "    tables = get_tables(connection, schema)\n",
    "\n",
    "    for table in tables:\n",
    "        backup_table_to_avro(table, schema)"
   ]
  }
 ],
 "metadata": {
  "application/vnd.databricks.v1+notebook": {
   "dashboards": [],
   "environmentMetadata": null,
   "language": "python",
   "notebookMetadata": {
    "pythonIndentUnit": 4
   },
   "notebookName": "recover_bk_from_avro_to_postgres",
   "widgets": {}
  },
  "language_info": {
   "name": "python"
  }
 },
 "nbformat": 4,
 "nbformat_minor": 0
}
